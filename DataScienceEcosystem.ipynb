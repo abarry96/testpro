{
 "cells": [
  {
   "cell_type": "markdown",
   "id": "5ac5a727-3c8b-40d5-b08d-d6e79979a5a3",
   "metadata": {},
   "source": [
    "# Data Science Tools and Ecosystem"
   ]
  },
  {
   "cell_type": "markdown",
   "id": "a5ac1cf5-1891-4c77-b9ba-dd1c0599a963",
   "metadata": {},
   "source": [
    "  In this notebook, Data Science Tools and Ecosystem are summarized."
   ]
  },
  {
   "cell_type": "markdown",
   "id": "cdcfbcbc-b91d-4eef-b2e1-5266c7163692",
   "metadata": {},
   "source": [
    "Some of the popular languages that Data Scientists use are:\n",
    "\n",
    "ordered list\n",
    "\n",
    "1. PYTHON\n",
    "2. R\n",
    "3. SQL"
   ]
  },
  {
   "cell_type": "markdown",
   "id": "c113dc08-58ed-4c19-a7e9-e7181463b807",
   "metadata": {},
   "source": [
    "Some of the commonly used libraries used by Data Scientists include:\n",
    "\n",
    "ordered list\n",
    "\n",
    "1. Pandas\n",
    "\n",
    "2. Scikit-learn \n",
    "\n",
    "3. Nympu\n",
    "\n",
    "  \n"
   ]
  },
  {
   "cell_type": "markdown",
   "id": "c2635d90-f78d-4118-9583-f26fb5468a08",
   "metadata": {},
   "source": [
    "Data Science Tools\n",
    "\n",
    "|Environment open source|\n",
    "|-----------------------|\n",
    "| R studio |\n",
    "| Jyputer notbook |\n",
    "| Jyputer lab|"
   ]
  },
  {
   "cell_type": "markdown",
   "id": "273663a2-90b5-4e03-81bc-972aa2781f76",
   "metadata": {},
   "source": [
    "Below are a few examples of evaluating arithmetic expressions in Python\n",
    "\n",
    "print(2+5)\n",
    "\n",
    "7\n",
    "\n",
    "print(2*6)\n",
    "\n",
    "12\n",
    "\n"
   ]
  },
  {
   "cell_type": "code",
   "execution_count": 2,
   "id": "55d4bd6c-a518-457b-8523-8eba4d65b767",
   "metadata": {
    "tags": []
   },
   "outputs": [
    {
     "data": {
      "text/plain": [
       "17"
      ]
     },
     "execution_count": 2,
     "metadata": {},
     "output_type": "execute_result"
    }
   ],
   "source": [
    "#This a simple arithmetic expression to mutiply then add integers\n",
    "\n",
    "(3*4)+5\n"
   ]
  },
  {
   "cell_type": "code",
   "execution_count": 3,
   "id": "a7d8a545-bbfc-4f26-b24a-2fe28e167f45",
   "metadata": {
    "tags": []
   },
   "outputs": [
    {
     "name": "stdout",
     "output_type": "stream",
     "text": [
      "3 h\n"
     ]
    }
   ],
   "source": [
    " #This will convert 200 minutes to hours by diving by 60.\n",
    " \n",
    " H=200//60\n",
    " print(H,\"h\")"
   ]
  },
  {
   "cell_type": "markdown",
   "id": "c7a2fbe4-2532-4507-9c3a-08d05d7fc622",
   "metadata": {},
   "source": [
    "Objectives:\n",
    "\n",
    "unordered list\n",
    "\n",
    "List popular languages for Data Science\n",
    "\n",
    "* Python\n",
    "* R\n",
    "* SQL\n",
    "* Scala\n",
    "* Java\n"
   ]
  },
  {
   "cell_type": "markdown",
   "id": "90c76494-05ab-41cf-9e52-f154662abcd9",
   "metadata": {},
   "source": [
    "## Author\n",
    "   Barry"
   ]
  }
 ],
 "metadata": {
  "kernelspec": {
   "display_name": "Python 3 (ipykernel)",
   "language": "python",
   "name": "python3"
  },
  "language_info": {
   "codemirror_mode": {
    "name": "ipython",
    "version": 3
   },
   "file_extension": ".py",
   "mimetype": "text/x-python",
   "name": "python",
   "nbconvert_exporter": "python",
   "pygments_lexer": "ipython3",
   "version": "3.11.4"
  }
 },
 "nbformat": 4,
 "nbformat_minor": 5
}
